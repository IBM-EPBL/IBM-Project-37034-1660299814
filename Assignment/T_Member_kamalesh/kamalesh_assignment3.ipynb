{
  "nbformat": 4,
  "nbformat_minor": 0,
  "metadata": {
    "colab": {
      "provenance": [],
      "collapsed_sections": []
    },
    "kernelspec": {
      "name": "python3",
      "display_name": "Python 3"
    },
    "language_info": {
      "name": "python"
    }
  },
  "cells": [
    {
      "cell_type": "code",
      "source": [
        "from google.colab import drive\n",
        "drive.mount('/content/gdrive')\n"
      ],
      "metadata": {
        "colab": {
          "base_uri": "https://localhost:8080/",
          "height": 328
        },
        "id": "5Vxr1qMhUwdS",
        "outputId": "9fc3d03d-3cd6-4ba3-ec26-2bff07708875"
      },
      "execution_count": null,
      "outputs": [
        {
          "output_type": "error",
          "ename": "MessageError",
          "evalue": "ignored",
          "traceback": [
            "\u001b[0;31m---------------------------------------------------------------------------\u001b[0m",
            "\u001b[0;31mMessageError\u001b[0m                              Traceback (most recent call last)",
            "\u001b[0;32m<ipython-input-1-4996ee3d8d09>\u001b[0m in \u001b[0;36m<module>\u001b[0;34m\u001b[0m\n\u001b[1;32m      1\u001b[0m \u001b[0;32mfrom\u001b[0m \u001b[0mgoogle\u001b[0m\u001b[0;34m.\u001b[0m\u001b[0mcolab\u001b[0m \u001b[0;32mimport\u001b[0m \u001b[0mdrive\u001b[0m\u001b[0;34m\u001b[0m\u001b[0;34m\u001b[0m\u001b[0m\n\u001b[0;32m----> 2\u001b[0;31m \u001b[0mdrive\u001b[0m\u001b[0;34m.\u001b[0m\u001b[0mmount\u001b[0m\u001b[0;34m(\u001b[0m\u001b[0;34m'/content/gdrive'\u001b[0m\u001b[0;34m)\u001b[0m\u001b[0;34m\u001b[0m\u001b[0;34m\u001b[0m\u001b[0m\n\u001b[0m",
            "\u001b[0;32m/usr/local/lib/python3.7/dist-packages/google/colab/drive.py\u001b[0m in \u001b[0;36mmount\u001b[0;34m(mountpoint, force_remount, timeout_ms, readonly)\u001b[0m\n\u001b[1;32m    104\u001b[0m       \u001b[0mtimeout_ms\u001b[0m\u001b[0;34m=\u001b[0m\u001b[0mtimeout_ms\u001b[0m\u001b[0;34m,\u001b[0m\u001b[0;34m\u001b[0m\u001b[0;34m\u001b[0m\u001b[0m\n\u001b[1;32m    105\u001b[0m       \u001b[0mephemeral\u001b[0m\u001b[0;34m=\u001b[0m\u001b[0;32mTrue\u001b[0m\u001b[0;34m,\u001b[0m\u001b[0;34m\u001b[0m\u001b[0;34m\u001b[0m\u001b[0m\n\u001b[0;32m--> 106\u001b[0;31m       readonly=readonly)\n\u001b[0m\u001b[1;32m    107\u001b[0m \u001b[0;34m\u001b[0m\u001b[0m\n\u001b[1;32m    108\u001b[0m \u001b[0;34m\u001b[0m\u001b[0m\n",
            "\u001b[0;32m/usr/local/lib/python3.7/dist-packages/google/colab/drive.py\u001b[0m in \u001b[0;36m_mount\u001b[0;34m(mountpoint, force_remount, timeout_ms, ephemeral, readonly)\u001b[0m\n\u001b[1;32m    123\u001b[0m   \u001b[0;32mif\u001b[0m \u001b[0mephemeral\u001b[0m\u001b[0;34m:\u001b[0m\u001b[0;34m\u001b[0m\u001b[0;34m\u001b[0m\u001b[0m\n\u001b[1;32m    124\u001b[0m     _message.blocking_request(\n\u001b[0;32m--> 125\u001b[0;31m         'request_auth', request={'authType': 'dfs_ephemeral'}, timeout_sec=None)\n\u001b[0m\u001b[1;32m    126\u001b[0m \u001b[0;34m\u001b[0m\u001b[0m\n\u001b[1;32m    127\u001b[0m   \u001b[0mmountpoint\u001b[0m \u001b[0;34m=\u001b[0m \u001b[0m_os\u001b[0m\u001b[0;34m.\u001b[0m\u001b[0mpath\u001b[0m\u001b[0;34m.\u001b[0m\u001b[0mexpanduser\u001b[0m\u001b[0;34m(\u001b[0m\u001b[0mmountpoint\u001b[0m\u001b[0;34m)\u001b[0m\u001b[0;34m\u001b[0m\u001b[0;34m\u001b[0m\u001b[0m\n",
            "\u001b[0;32m/usr/local/lib/python3.7/dist-packages/google/colab/_message.py\u001b[0m in \u001b[0;36mblocking_request\u001b[0;34m(request_type, request, timeout_sec, parent)\u001b[0m\n\u001b[1;32m    169\u001b[0m   request_id = send_request(\n\u001b[1;32m    170\u001b[0m       request_type, request, parent=parent, expect_reply=True)\n\u001b[0;32m--> 171\u001b[0;31m   \u001b[0;32mreturn\u001b[0m \u001b[0mread_reply_from_input\u001b[0m\u001b[0;34m(\u001b[0m\u001b[0mrequest_id\u001b[0m\u001b[0;34m,\u001b[0m \u001b[0mtimeout_sec\u001b[0m\u001b[0;34m)\u001b[0m\u001b[0;34m\u001b[0m\u001b[0;34m\u001b[0m\u001b[0m\n\u001b[0m",
            "\u001b[0;32m/usr/local/lib/python3.7/dist-packages/google/colab/_message.py\u001b[0m in \u001b[0;36mread_reply_from_input\u001b[0;34m(message_id, timeout_sec)\u001b[0m\n\u001b[1;32m    100\u001b[0m         reply.get('colab_msg_id') == message_id):\n\u001b[1;32m    101\u001b[0m       \u001b[0;32mif\u001b[0m \u001b[0;34m'error'\u001b[0m \u001b[0;32min\u001b[0m \u001b[0mreply\u001b[0m\u001b[0;34m:\u001b[0m\u001b[0;34m\u001b[0m\u001b[0;34m\u001b[0m\u001b[0m\n\u001b[0;32m--> 102\u001b[0;31m         \u001b[0;32mraise\u001b[0m \u001b[0mMessageError\u001b[0m\u001b[0;34m(\u001b[0m\u001b[0mreply\u001b[0m\u001b[0;34m[\u001b[0m\u001b[0;34m'error'\u001b[0m\u001b[0;34m]\u001b[0m\u001b[0;34m)\u001b[0m\u001b[0;34m\u001b[0m\u001b[0;34m\u001b[0m\u001b[0m\n\u001b[0m\u001b[1;32m    103\u001b[0m       \u001b[0;32mreturn\u001b[0m \u001b[0mreply\u001b[0m\u001b[0;34m.\u001b[0m\u001b[0mget\u001b[0m\u001b[0;34m(\u001b[0m\u001b[0;34m'data'\u001b[0m\u001b[0;34m,\u001b[0m \u001b[0;32mNone\u001b[0m\u001b[0;34m)\u001b[0m\u001b[0;34m\u001b[0m\u001b[0;34m\u001b[0m\u001b[0m\n\u001b[1;32m    104\u001b[0m \u001b[0;34m\u001b[0m\u001b[0m\n",
            "\u001b[0;31mMessageError\u001b[0m: Error: credential propagation was unsuccessful"
          ]
        }
      ]
    },
    {
      "cell_type": "code",
      "source": [
        "!unzip gdrive/My\\ Drive/Flowers-Dataset.zip"
      ],
      "metadata": {
        "id": "yTHzLR5jVI8x"
      },
      "execution_count": null,
      "outputs": []
    },
    {
      "cell_type": "code",
      "source": [],
      "metadata": {
        "id": "3YoynKENq5Ns"
      },
      "execution_count": null,
      "outputs": []
    },
    {
      "cell_type": "code",
      "source": [
        "!unzip gdrive/My\\ Drive/Flowers-Dataset.zip > /dev/null"
      ],
      "metadata": {
        "colab": {
          "base_uri": "https://localhost:8080/"
        },
        "id": "utzmYanRXC0h",
        "outputId": "bad4efe8-dfc3-4c5f-e076-6f73e80979db"
      },
      "execution_count": null,
      "outputs": [
        {
          "output_type": "stream",
          "name": "stdout",
          "text": [
            "replace flowers/daisy/100080576_f52e8ee070_n.jpg? [y]es, [n]o, [A]ll, [N]one, [r]ename: A\n"
          ]
        }
      ]
    },
    {
      "cell_type": "markdown",
      "source": [
        "#Image Augmentation"
      ],
      "metadata": {
        "id": "j0vnpTEMzVOJ"
      }
    },
    {
      "cell_type": "code",
      "source": [
        "from tensorflow.keras.preprocessing.image import ImageDataGenerator"
      ],
      "metadata": {
        "id": "swoASKYXzX-C"
      },
      "execution_count": null,
      "outputs": []
    },
    {
      "cell_type": "code",
      "source": [
        "train_datagen = ImageDataGenerator(rescale=1./255, zoom_range=0.2, horizontal_flip=True)\n",
        "                           "
      ],
      "metadata": {
        "id": "WP675tBTzdwZ"
      },
      "execution_count": null,
      "outputs": []
    },
    {
      "cell_type": "code",
      "source": [
        "test_datagen = ImageDataGenerator(rescale=1./255)"
      ],
      "metadata": {
        "id": "hIpD-6rqziXa"
      },
      "execution_count": null,
      "outputs": []
    },
    {
      "cell_type": "code",
      "source": [
        "xtrain = train_datagen.flow_from_directory('/content/flowers',target_size=(64,64),class_mode='categorical', batch_size=100)\n",
        "                                          "
      ],
      "metadata": {
        "id": "LaHxuVp7zmoB",
        "outputId": "d57a1337-0555-41f0-cba5-534cc001aca0",
        "colab": {
          "base_uri": "https://localhost:8080/"
        }
      },
      "execution_count": null,
      "outputs": [
        {
          "output_type": "stream",
          "name": "stdout",
          "text": [
            "Found 4317 images belonging to 5 classes.\n"
          ]
        }
      ]
    },
    {
      "cell_type": "markdown",
      "source": [
        "#Create Model"
      ],
      "metadata": {
        "id": "UkkT125PzrtZ"
      }
    },
    {
      "cell_type": "code",
      "source": [
        "from tensorflow.keras.models import Sequential\n",
        "from tensorflow.keras.layers import Convolution2D,MaxPooling2D,Flatten,Dense"
      ],
      "metadata": {
        "id": "e0AepO3DztK5"
      },
      "execution_count": null,
      "outputs": []
    },
    {
      "cell_type": "code",
      "source": [
        "model = Sequential()"
      ],
      "metadata": {
        "id": "BuvHSc9yz0qJ"
      },
      "execution_count": null,
      "outputs": []
    },
    {
      "cell_type": "markdown",
      "source": [
        "#Convolution Layer"
      ],
      "metadata": {
        "id": "QR1zIeoAz4Zy"
      }
    },
    {
      "cell_type": "code",
      "source": [
        "model.add(Convolution2D(32,(3,3),activation='relu',input_shape=(64,64,3))) "
      ],
      "metadata": {
        "id": "5fOWAP3Zz5yR"
      },
      "execution_count": null,
      "outputs": []
    },
    {
      "cell_type": "markdown",
      "source": [
        "#MaxPooling"
      ],
      "metadata": {
        "id": "5NtCJ6ebz_Sw"
      }
    },
    {
      "cell_type": "code",
      "source": [
        "model.add(MaxPooling2D(pool_size=(2,2)))"
      ],
      "metadata": {
        "id": "ahi75-dd0AkY"
      },
      "execution_count": null,
      "outputs": []
    },
    {
      "cell_type": "markdown",
      "source": [
        "#Flatten"
      ],
      "metadata": {
        "id": "JMNMzNfX0GGB"
      }
    },
    {
      "cell_type": "code",
      "source": [
        "model.add(Flatten())"
      ],
      "metadata": {
        "id": "FvGY4ILy0HfI"
      },
      "execution_count": null,
      "outputs": []
    },
    {
      "cell_type": "markdown",
      "source": [
        "#Dense Layer"
      ],
      "metadata": {
        "id": "6CuQp1Mn0MJZ"
      }
    },
    {
      "cell_type": "code",
      "source": [
        "model.add(Dense(300,activation='relu')) #hiddenlayer 1\n",
        "model.add(Dense(150,activation='relu')) #hiddenlayer 2"
      ],
      "metadata": {
        "id": "mf947FJd0NcZ"
      },
      "execution_count": null,
      "outputs": []
    },
    {
      "cell_type": "markdown",
      "source": [
        "#Compile the model"
      ],
      "metadata": {
        "id": "8sqMcIPd0YY1"
      }
    },
    {
      "cell_type": "code",
      "source": [
        "model.compile(optimizer='adam',loss='categorical_crossentropy',metrics=['accuracy'])"
      ],
      "metadata": {
        "id": "ZkFh5Uw90ZjR"
      },
      "execution_count": null,
      "outputs": []
    },
    {
      "cell_type": "markdown",
      "source": [
        "#Train"
      ],
      "metadata": {
        "id": "0UFY_CvQ0eB5"
      }
    },
    {
      "cell_type": "code",
      "source": [
        "from keras.callbacks import EarlyStopping, ReduceLROnPlateau"
      ],
      "metadata": {
        "id": "oy1Z83bL0fQb"
      },
      "execution_count": null,
      "outputs": []
    },
    {
      "cell_type": "code",
      "source": [
        "early_stopping = EarlyStopping(monitor='val_accuracy',  patience=5)\n",
        "                      \n",
        "reduce_lr = ReduceLROnPlateau(monitor='val_accuracy',  patience=5, factor=0.5,min_lr=0.00001)\n",
        "callback = [reduce_lr,early_stopping]"
      ],
      "metadata": {
        "id": "Vez9wl9W0iYB"
      },
      "execution_count": null,
      "outputs": []
    },
    {
      "cell_type": "code",
      "source": [
        "model.fit_generator(xtrain,  steps_per_epoch=len(xtrain),epochs=100,  callbacks=callback,  validation_data=xtrain validation_steps=len(xtrain))\n",
        "                \n",
        "                    \n",
        "                  \n",
        "                  \n",
        "                   "
      ],
      "metadata": {
        "id": "-Wa19Iz40lL5",
        "outputId": "c92aac81-1d69-4415-9193-7e96dffb1ec6",
        "colab": {
          "base_uri": "https://localhost:8080/"
        }
      },
      "execution_count": null,
      "outputs": [
        {
          "output_type": "stream",
          "name": "stderr",
          "text": [
            "/usr/local/lib/python3.7/dist-packages/ipykernel_launcher.py:6: UserWarning: `Model.fit_generator` is deprecated and will be removed in a future version. Please use `Model.fit`, which supports generators.\n",
            "  \n"
          ]
        },
        {
          "output_type": "stream",
          "name": "stdout",
          "text": [
            "Epoch 1/100\n",
            "44/44 [==============================] - 29s 656ms/step - loss: 1.4826 - accuracy: 0.3940 - val_loss: 1.1567 - val_accuracy: 0.4913 - lr: 0.0010\n",
            "Epoch 2/100\n",
            "44/44 [==============================] - 28s 644ms/step - loss: 1.1169 - accuracy: 0.5365 - val_loss: 1.0406 - val_accuracy: 0.5874 - lr: 0.0010\n",
            "Epoch 3/100\n",
            "44/44 [==============================] - 28s 646ms/step - loss: 1.0173 - accuracy: 0.5895 - val_loss: 0.9678 - val_accuracy: 0.6201 - lr: 0.0010\n",
            "Epoch 4/100\n",
            "44/44 [==============================] - 28s 645ms/step - loss: 0.9785 - accuracy: 0.6166 - val_loss: 0.9125 - val_accuracy: 0.6435 - lr: 0.0010\n",
            "Epoch 5/100\n",
            "44/44 [==============================] - 30s 682ms/step - loss: 0.9243 - accuracy: 0.6398 - val_loss: 0.8496 - val_accuracy: 0.6785 - lr: 0.0010\n",
            "Epoch 6/100\n",
            "44/44 [==============================] - 28s 646ms/step - loss: 0.8731 - accuracy: 0.6604 - val_loss: 0.8537 - val_accuracy: 0.6699 - lr: 0.0010\n",
            "Epoch 7/100\n",
            "44/44 [==============================] - 29s 674ms/step - loss: 0.8488 - accuracy: 0.6766 - val_loss: 0.8946 - val_accuracy: 0.6551 - lr: 0.0010\n",
            "Epoch 8/100\n",
            "44/44 [==============================] - 29s 653ms/step - loss: 0.8541 - accuracy: 0.6736 - val_loss: 0.7750 - val_accuracy: 0.7121 - lr: 0.0010\n",
            "Epoch 9/100\n",
            "44/44 [==============================] - 29s 652ms/step - loss: 0.7726 - accuracy: 0.7077 - val_loss: 0.7417 - val_accuracy: 0.7123 - lr: 0.0010\n",
            "Epoch 10/100\n",
            "44/44 [==============================] - 29s 651ms/step - loss: 0.7520 - accuracy: 0.7102 - val_loss: 0.6889 - val_accuracy: 0.7413 - lr: 0.0010\n",
            "Epoch 11/100\n",
            "44/44 [==============================] - 30s 676ms/step - loss: 0.7235 - accuracy: 0.7255 - val_loss: 0.6763 - val_accuracy: 0.7461 - lr: 0.0010\n",
            "Epoch 12/100\n",
            "44/44 [==============================] - 29s 652ms/step - loss: 0.6798 - accuracy: 0.7480 - val_loss: 0.6138 - val_accuracy: 0.7714 - lr: 0.0010\n",
            "Epoch 13/100\n",
            "44/44 [==============================] - 29s 653ms/step - loss: 0.6567 - accuracy: 0.7482 - val_loss: 0.6296 - val_accuracy: 0.7707 - lr: 0.0010\n",
            "Epoch 14/100\n",
            "44/44 [==============================] - 29s 652ms/step - loss: 0.6233 - accuracy: 0.7725 - val_loss: 0.6049 - val_accuracy: 0.7790 - lr: 0.0010\n",
            "Epoch 15/100\n",
            "44/44 [==============================] - 29s 652ms/step - loss: 0.5950 - accuracy: 0.7732 - val_loss: 0.5990 - val_accuracy: 0.7769 - lr: 0.0010\n",
            "Epoch 16/100\n",
            "44/44 [==============================] - 29s 673ms/step - loss: 0.5682 - accuracy: 0.7883 - val_loss: 0.5367 - val_accuracy: 0.8038 - lr: 0.0010\n",
            "Epoch 17/100\n",
            "44/44 [==============================] - 29s 653ms/step - loss: 0.5420 - accuracy: 0.7999 - val_loss: 0.5097 - val_accuracy: 0.8101 - lr: 0.0010\n",
            "Epoch 18/100\n",
            "44/44 [==============================] - 28s 650ms/step - loss: 0.5096 - accuracy: 0.8142 - val_loss: 0.4472 - val_accuracy: 0.8351 - lr: 0.0010\n",
            "Epoch 19/100\n",
            "44/44 [==============================] - 29s 651ms/step - loss: 0.4990 - accuracy: 0.8124 - val_loss: 0.4753 - val_accuracy: 0.8441 - lr: 0.0010\n",
            "Epoch 20/100\n",
            "44/44 [==============================] - 28s 647ms/step - loss: 0.4636 - accuracy: 0.8353 - val_loss: 0.4070 - val_accuracy: 0.8592 - lr: 0.0010\n",
            "Epoch 21/100\n",
            "44/44 [==============================] - 28s 646ms/step - loss: 0.4553 - accuracy: 0.8390 - val_loss: 0.4038 - val_accuracy: 0.8575 - lr: 0.0010\n",
            "Epoch 22/100\n",
            "44/44 [==============================] - 28s 657ms/step - loss: 0.4080 - accuracy: 0.8603 - val_loss: 0.4175 - val_accuracy: 0.8441 - lr: 0.0010\n",
            "Epoch 23/100\n",
            "44/44 [==============================] - 28s 647ms/step - loss: 0.4035 - accuracy: 0.8522 - val_loss: 0.3319 - val_accuracy: 0.8823 - lr: 0.0010\n",
            "Epoch 24/100\n",
            "44/44 [==============================] - 28s 645ms/step - loss: 0.3617 - accuracy: 0.8680 - val_loss: 0.3652 - val_accuracy: 0.8742 - lr: 0.0010\n",
            "Epoch 25/100\n",
            "44/44 [==============================] - 29s 670ms/step - loss: 0.3284 - accuracy: 0.8863 - val_loss: 0.2883 - val_accuracy: 0.9027 - lr: 0.0010\n",
            "Epoch 26/100\n",
            "44/44 [==============================] - 28s 648ms/step - loss: 0.3436 - accuracy: 0.8761 - val_loss: 0.3466 - val_accuracy: 0.8710 - lr: 0.0010\n",
            "Epoch 27/100\n",
            "44/44 [==============================] - 29s 655ms/step - loss: 0.3752 - accuracy: 0.8636 - val_loss: 0.3124 - val_accuracy: 0.8941 - lr: 0.0010\n",
            "Epoch 28/100\n",
            "44/44 [==============================] - 29s 654ms/step - loss: 0.3111 - accuracy: 0.8967 - val_loss: 0.2783 - val_accuracy: 0.9053 - lr: 0.0010\n",
            "Epoch 29/100\n",
            "44/44 [==============================] - 29s 652ms/step - loss: 0.2896 - accuracy: 0.8995 - val_loss: 0.2822 - val_accuracy: 0.8981 - lr: 0.0010\n",
            "Epoch 30/100\n",
            "44/44 [==============================] - 30s 675ms/step - loss: 0.2731 - accuracy: 0.9043 - val_loss: 0.2327 - val_accuracy: 0.9210 - lr: 0.0010\n",
            "Epoch 31/100\n",
            "44/44 [==============================] - 29s 653ms/step - loss: 0.2760 - accuracy: 0.9002 - val_loss: 0.2230 - val_accuracy: 0.9224 - lr: 0.0010\n",
            "Epoch 32/100\n",
            "44/44 [==============================] - 29s 652ms/step - loss: 0.2596 - accuracy: 0.9115 - val_loss: 0.1996 - val_accuracy: 0.9296 - lr: 0.0010\n",
            "Epoch 33/100\n",
            "44/44 [==============================] - 29s 653ms/step - loss: 0.2150 - accuracy: 0.9300 - val_loss: 0.2043 - val_accuracy: 0.9312 - lr: 0.0010\n",
            "Epoch 34/100\n",
            "44/44 [==============================] - 29s 651ms/step - loss: 0.2069 - accuracy: 0.9287 - val_loss: 0.1685 - val_accuracy: 0.9449 - lr: 0.0010\n",
            "Epoch 35/100\n",
            "44/44 [==============================] - 30s 679ms/step - loss: 0.2124 - accuracy: 0.9256 - val_loss: 0.2203 - val_accuracy: 0.9236 - lr: 0.0010\n",
            "Epoch 36/100\n",
            "44/44 [==============================] - 29s 651ms/step - loss: 0.2004 - accuracy: 0.9388 - val_loss: 0.1753 - val_accuracy: 0.9409 - lr: 0.0010\n",
            "Epoch 37/100\n",
            "44/44 [==============================] - 29s 658ms/step - loss: 0.1721 - accuracy: 0.9419 - val_loss: 0.1568 - val_accuracy: 0.9470 - lr: 0.0010\n",
            "Epoch 38/100\n",
            "44/44 [==============================] - 29s 658ms/step - loss: 0.1788 - accuracy: 0.9379 - val_loss: 0.1708 - val_accuracy: 0.9442 - lr: 0.0010\n",
            "Epoch 39/100\n",
            "44/44 [==============================] - 29s 656ms/step - loss: 0.1535 - accuracy: 0.9483 - val_loss: 0.1738 - val_accuracy: 0.9361 - lr: 0.0010\n",
            "Epoch 40/100\n",
            "44/44 [==============================] - 30s 681ms/step - loss: 0.1471 - accuracy: 0.9488 - val_loss: 0.1251 - val_accuracy: 0.9625 - lr: 0.0010\n",
            "Epoch 41/100\n",
            "44/44 [==============================] - 29s 659ms/step - loss: 0.1499 - accuracy: 0.9490 - val_loss: 0.1212 - val_accuracy: 0.9599 - lr: 0.0010\n",
            "Epoch 42/100\n",
            "44/44 [==============================] - 29s 656ms/step - loss: 0.1626 - accuracy: 0.9451 - val_loss: 0.1760 - val_accuracy: 0.9416 - lr: 0.0010\n",
            "Epoch 43/100\n",
            "44/44 [==============================] - 29s 658ms/step - loss: 0.1612 - accuracy: 0.9465 - val_loss: 0.1410 - val_accuracy: 0.9518 - lr: 0.0010\n",
            "Epoch 44/100\n",
            "44/44 [==============================] - 29s 655ms/step - loss: 0.1423 - accuracy: 0.9546 - val_loss: 0.1180 - val_accuracy: 0.9620 - lr: 0.0010\n",
            "Epoch 45/100\n",
            "44/44 [==============================] - 29s 657ms/step - loss: 0.1261 - accuracy: 0.9571 - val_loss: 0.1241 - val_accuracy: 0.9565 - lr: 0.0010\n"
          ]
        },
        {
          "output_type": "execute_result",
          "data": {
            "text/plain": [
              "<keras.callbacks.History at 0x7fefef9f55d0>"
            ]
          },
          "metadata": {},
          "execution_count": 23
        }
      ]
    },
    {
      "cell_type": "markdown",
      "source": [
        "#Saving"
      ],
      "metadata": {
        "id": "rfBybfpzDvPw"
      }
    },
    {
      "cell_type": "code",
      "source": [
        "model.save('Flowers.h5')"
      ],
      "metadata": {
        "id": "JUCCQqwBDweI"
      },
      "execution_count": null,
      "outputs": []
    },
    {
      "cell_type": "markdown",
      "source": [
        "#Testing the model"
      ],
      "metadata": {
        "id": "AqyfrXkPD1AW"
      }
    },
    {
      "cell_type": "code",
      "source": [
        "import numpy as np\n",
        "from tensorflow.keras.preprocessing import image"
      ],
      "metadata": {
        "id": "l-Ur2CGJD2kg"
      },
      "execution_count": null,
      "outputs": []
    },
    {
      "cell_type": "code",
      "source": [
        "img = image.load_img('/content/flowers/sunflower/10386503264_e05387e1f7_m.jpg',target_size=(64,64))"
      ],
      "metadata": {
        "id": "iQu6GRD7D6tI"
      },
      "execution_count": null,
      "outputs": []
    },
    {
      "cell_type": "code",
      "source": [
        "from google.colab import drive\n",
        "drive.mount('/content/drive')"
      ],
      "metadata": {
        "id": "9U3cKCk1oDwp"
      },
      "execution_count": null,
      "outputs": []
    },
    {
      "cell_type": "code",
      "source": [
        "img"
      ],
      "metadata": {
        "id": "2IqEHiu_D9vh",
        "outputId": "2e1947b7-dc6b-41e3-f76f-3f3ea441576e",
        "colab": {
          "base_uri": "https://localhost:8080/",
          "height": 81
        }
      },
      "execution_count": null,
      "outputs": [
        {
          "output_type": "execute_result",
          "data": {
            "text/plain": [
              "<PIL.Image.Image image mode=RGB size=64x64 at 0x7FEFE8A2B2D0>"
            ],
            "image/png": "[encoded data removed]"
          },
          "metadata": {},
          "execution_count": 31
        }
      ]
    },
    {
      "cell_type": "markdown",
      "source": [
        "#Array Conversion"
      ],
      "metadata": {
        "id": "eH84E-cIEQ2f"
      }
    },
    {
      "cell_type": "code",
      "source": [
        "x = image.img_to_array(img)\n",
        "x"
      ],
      "metadata": {
        "id": "eFIygR-gEQY3",
        "outputId": "d07454cc-89df-49fc-f30a-13f5e56da59b",
        "colab": {
          "base_uri": "https://localhost:8080/"
        }
      },
      "execution_count": null,
      "outputs": [
        {
          "output_type": "execute_result",
          "data": {
            "text/plain": [
              "array([[[ 37.,  93., 242.],\n",
              "        [ 45., 103., 210.],\n",
              "        [ 36., 104., 205.],\n",
              "        ...,\n",
              "        [ 51., 115., 223.],\n",
              "        [131.,  60.,  16.],\n",
              "        [ 68., 120., 242.]],\n",
              "\n",
              "       [[ 83., 137., 183.],\n",
              "        [110., 142., 131.],\n",
              "        [127., 151., 119.],\n",
              "        ...,\n",
              "        [ 68., 118., 191.],\n",
              "        [ 53.,  23.,  13.],\n",
              "        [ 54., 127., 221.]],\n",
              "\n",
              "       [[ 80., 114.,  77.],\n",
              "        [ 86., 110.,  58.],\n",
              "        [ 81., 122., 154.],\n",
              "        ...,\n",
              "        [ 67., 120., 188.],\n",
              "        [ 53.,  99., 149.],\n",
              "        [ 63., 129., 223.]],\n",
              "\n",
              "       ...,\n",
              "\n",
              "       [[120., 157., 116.],\n",
              "        [138., 164., 116.],\n",
              "        [125., 155., 103.],\n",
              "        ...,\n",
              "        [121., 153.,  86.],\n",
              "        [ 20.,  30.,   5.],\n",
              "        [124., 136.,  96.]],\n",
              "\n",
              "       [[132., 156., 120.],\n",
              "        [161., 190., 132.],\n",
              "        [115., 139.,  89.],\n",
              "        ...,\n",
              "        [113., 137.,  75.],\n",
              "        [108., 133.,  75.],\n",
              "        [112., 141.,  75.]],\n",
              "\n",
              "       [[  0.,  10.,   6.],\n",
              "        [ 58.,  72.,  47.],\n",
              "        [ 53.,  66.,  36.],\n",
              "        ...,\n",
              "        [129., 158.,  94.],\n",
              "        [121., 162.,  92.],\n",
              "        [138., 184., 119.]]], dtype=float32)"
            ]
          },
          "metadata": {},
          "execution_count": 32
        }
      ]
    },
    {
      "cell_type": "code",
      "source": [
        "\n",
        "x = np.expand_dims(x,axis=0)\n",
        "x"
      ],
      "metadata": {
        "id": "ecYulcu3EYeX",
        "outputId": "1e95ee71-3362-40fe-aace-174d968069b8",
        "colab": {
          "base_uri": "https://localhost:8080/"
        }
      },
      "execution_count": null,
      "outputs": [
        {
          "output_type": "execute_result",
          "data": {
            "text/plain": [
              "array([[[[ 37.,  93., 242.],\n",
              "         [ 45., 103., 210.],\n",
              "         [ 36., 104., 205.],\n",
              "         ...,\n",
              "         [ 51., 115., 223.],\n",
              "         [131.,  60.,  16.],\n",
              "         [ 68., 120., 242.]],\n",
              "\n",
              "        [[ 83., 137., 183.],\n",
              "         [110., 142., 131.],\n",
              "         [127., 151., 119.],\n",
              "         ...,\n",
              "         [ 68., 118., 191.],\n",
              "         [ 53.,  23.,  13.],\n",
              "         [ 54., 127., 221.]],\n",
              "\n",
              "        [[ 80., 114.,  77.],\n",
              "         [ 86., 110.,  58.],\n",
              "         [ 81., 122., 154.],\n",
              "         ...,\n",
              "         [ 67., 120., 188.],\n",
              "         [ 53.,  99., 149.],\n",
              "         [ 63., 129., 223.]],\n",
              "\n",
              "        ...,\n",
              "\n",
              "        [[120., 157., 116.],\n",
              "         [138., 164., 116.],\n",
              "         [125., 155., 103.],\n",
              "         ...,\n",
              "         [121., 153.,  86.],\n",
              "         [ 20.,  30.,   5.],\n",
              "         [124., 136.,  96.]],\n",
              "\n",
              "        [[132., 156., 120.],\n",
              "         [161., 190., 132.],\n",
              "         [115., 139.,  89.],\n",
              "         ...,\n",
              "         [113., 137.,  75.],\n",
              "         [108., 133.,  75.],\n",
              "         [112., 141.,  75.]],\n",
              "\n",
              "        [[  0.,  10.,   6.],\n",
              "         [ 58.,  72.,  47.],\n",
              "         [ 53.,  66.,  36.],\n",
              "         ...,\n",
              "         [129., 158.,  94.],\n",
              "         [121., 162.,  92.],\n",
              "         [138., 184., 119.]]]], dtype=float32)"
            ]
          },
          "metadata": {},
          "execution_count": 33
        }
      ]
    },
    {
      "cell_type": "markdown",
      "source": [
        "#Prediction"
      ],
      "metadata": {
        "id": "a9kO-mlAEeT_"
      }
    },
    {
      "cell_type": "code",
      "source": [
        "model.predict(x)"
      ],
      "metadata": {
        "id": "OtT5hAl2EjF_",
        "outputId": "bf52c5d8-e30e-41ab-8852-f5e44fe105bb",
        "colab": {
          "base_uri": "https://localhost:8080/"
        }
      },
      "execution_count": null,
      "outputs": [
        {
          "output_type": "execute_result",
          "data": {
            "text/plain": [
              "array([[0., 0., 0., 1., 0.]], dtype=float32)"
            ]
          },
          "metadata": {},
          "execution_count": 34
        }
      ]
    },
    {
      "cell_type": "code",
      "source": [
        "xtrain.class_indices"
      ],
      "metadata": {
        "id": "CHsC5Z4GEnJq",
        "outputId": "d9047e8a-c520-4339-f218-3612ee909ecb",
        "colab": {
          "base_uri": "https://localhost:8080/"
        }
      },
      "execution_count": null,
      "outputs": [
        {
          "output_type": "execute_result",
          "data": {
            "text/plain": [
              "{'daisy': 0, 'dandelion': 1, 'rose': 2, 'sunflower': 3, 'tulip': 4}"
            ]
          },
          "metadata": {},
          "execution_count": 35
        }
      ]
    },
    {
      "cell_type": "code",
      "source": [
        "op = ['daisy','dandelion','rose','sunflower','tulip']\n",
        "pred = np.argmax(model.predict(x))\n",
        "op[pred]"
      ],
      "metadata": {
        "id": "plqwdF5uErYP",
        "outputId": "0c5ccd68-9447-4e00-c9ba-88211ce80cc2",
        "colab": {
          "base_uri": "https://localhost:8080/",
          "height": 35
        }
      },
      "execution_count": null,
      "outputs": [
        {
          "output_type": "execute_result",
          "data": {
            "text/plain": [
              "'sunflower'"
            ],
            "application/vnd.google.colaboratory.intrinsic+json": {
              "type": "string"
            }
          },
          "metadata": {},
          "execution_count": 36
        }
      ]
    },
    {
      "cell_type": "code",
      "source": [
        "img = image.load_img('/content/flowers/daisy/10466558316_a7198b87e2.jpg',target_size=(64,64))\n",
        "x = image.img_to_array(img)\n",
        "x = np.expand_dims(x,axis=0)\n",
        "pred = np.argmax(model.predict(x))\n",
        "op[pred]"
      ],
      "metadata": {
        "id": "Z8ErgO04Eucg",
        "outputId": "3910683e-55a4-47fc-9830-90c2fa7c43ca",
        "colab": {
          "base_uri": "https://localhost:8080/",
          "height": 35
        }
      },
      "execution_count": null,
      "outputs": [
        {
          "output_type": "execute_result",
          "data": {
            "text/plain": [
              "'daisy'"
            ],
            "application/vnd.google.colaboratory.intrinsic+json": {
              "type": "string"
            }
          },
          "metadata": {},
          "execution_count": 37
        }
      ]
    }
  ]
}