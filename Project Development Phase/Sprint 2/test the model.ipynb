{
 "cells": [
  {
   "cell_type": "code",
   "execution_count": 39,
   "id": "5a103dd6",
   "metadata": {},
   "outputs": [],
   "source": [
    "from keras.preprocessing.image import ImageDataGenerator\n",
    "\n",
    "train_datagen = ImageDataGenerator(rescale= 1./255, shear_range=0.2, zoom_range=0.2, horizontal_flip=True)\n",
    "\n",
    "test_datagen = ImageDataGenerator(rescale = 1./255)\n"
   ]
  },
  {
   "cell_type": "code",
   "execution_count": 59,
   "id": "fdb7dabc",
   "metadata": {},
   "outputs": [
    {
     "name": "stdout",
     "output_type": "stream",
     "text": [
      "Found 15750 images belonging to 8 classes.\n"
     ]
    }
   ],
   "source": [
    "x_train = train_datagen.flow_from_directory('C:/Users/MAGENDRAN/Downloads/Dataset/training_set', target_size=(64,64), batch_size=300, class_mode='categorical', color_mode = 'grayscale')"
   ]
  },
  {
   "cell_type": "code",
   "execution_count": 61,
   "id": "4bdcd25a",
   "metadata": {},
   "outputs": [
    {
     "name": "stdout",
     "output_type": "stream",
     "text": [
      "Found 2250 images belonging to 9 classes.\n"
     ]
    }
   ],
   "source": [
    "x_test = test_datagen.flow_from_directory('C:/Users/MAGENDRAN/Downloads/Dataset/test_set', target_size=(64,64), batch_size=300, class_mode='categorical', color_mode=\"grayscale\")"
   ]
  },
  {
   "cell_type": "code",
   "execution_count": 62,
   "id": "f6ee961c",
   "metadata": {},
   "outputs": [],
   "source": [
    "from keras.models import Sequential\n",
    "from keras.layers import Dense\n",
    "from keras.layers import Convolution2D\n",
    "from keras.layers import Flatten\n",
    "from keras.layers import MaxPooling2D\n",
    "from keras.layers import Dropout\n"
   ]
  },
  {
   "cell_type": "code",
   "execution_count": 63,
   "id": "237d3e7f",
   "metadata": {},
   "outputs": [],
   "source": [
    "model=Sequential()"
   ]
  },
  {
   "cell_type": "code",
   "execution_count": 64,
   "id": "6b7deec4",
   "metadata": {},
   "outputs": [],
   "source": [
    "model.add(Convolution2D(32,(3,3), input_shape=(64,64,1),activation='relu'))"
   ]
  },
  {
   "cell_type": "code",
   "execution_count": 65,
   "id": "a6b0d6fd",
   "metadata": {},
   "outputs": [],
   "source": [
    "model.add(MaxPooling2D(pool_size=(2,2)))"
   ]
  },
  {
   "cell_type": "code",
   "execution_count": 66,
   "id": "f184cc1f",
   "metadata": {},
   "outputs": [],
   "source": [
    "model.add(Flatten())"
   ]
  },
  {
   "cell_type": "code",
   "execution_count": 67,
   "id": "053c3319",
   "metadata": {},
   "outputs": [],
   "source": [
    "model.add(Dense(units=512,activation='relu'))\n",
    "model.add(Dense(units=9,activation='softmax'))"
   ]
  },
  {
   "cell_type": "code",
   "execution_count": 68,
   "id": "f8763dc3",
   "metadata": {},
   "outputs": [],
   "source": [
    "model.compile(loss='categorical_crossentropy', optimizer='adam',metrics=['accuracy'])"
   ]
  },
  {
   "cell_type": "markdown",
   "id": "0175b9a4",
   "metadata": {},
   "source": []
  },
  {
   "cell_type": "code",
   "execution_count": 69,
   "id": "2be6a279",
   "metadata": {},
   "outputs": [],
   "source": [
    "model.save('as1png1.h5')"
   ]
  },
  {
   "cell_type": "code",
   "execution_count": null,
   "id": "8bf153bb",
   "metadata": {},
   "outputs": [],
   "source": [
    "#Train the model"
   ]
  },
  {
   "cell_type": "code",
   "execution_count": 70,
   "id": "628dd44e",
   "metadata": {},
   "outputs": [],
   "source": [
    "from keras.models import load_model\n",
    "import numpy as np\n",
    "import cv2\n"
   ]
  },
  {
   "cell_type": "code",
   "execution_count": 71,
   "id": "e210819d",
   "metadata": {},
   "outputs": [],
   "source": [
    "model=load_model('as1png1.h5')"
   ]
  },
  {
   "cell_type": "code",
   "execution_count": 72,
   "id": "4cf2b57d",
   "metadata": {},
   "outputs": [],
   "source": [
    "from skimage.transform import resize"
   ]
  },
  {
   "cell_type": "code",
   "execution_count": 130,
   "id": "0b1d1ae8",
   "metadata": {},
   "outputs": [],
   "source": [
    "def detect(frame):\n",
    "    img=resize(frame,(64,64,1))\n",
    "    img=np.expand_dims(img,axis=0)\n",
    "    if(np.max(img)>1):\n",
    "        img=img/255.0\n",
    "    predicition=model.predict(img)\n",
    "    #print(prediction)\n",
    "    \n",
    "    print(predicition)"
   ]
  },
  {
   "cell_type": "code",
   "execution_count": 131,
   "id": "f2655ebf",
   "metadata": {},
   "outputs": [],
   "source": [
    "frame=cv2.imread(r\"C:\\Users\\MAGENDRAN\\Desktop\\ibm\\Dataset\\test_set\\G\\2.png\")"
   ]
  },
  {
   "cell_type": "code",
   "execution_count": 132,
   "id": "d0c1872a",
   "metadata": {},
   "outputs": [
    {
     "name": "stdout",
     "output_type": "stream",
     "text": [
      "1/1 [==============================] - 0s 78ms/step\n",
      "[[0.14787027 0.10269006 0.08804213 0.09801047 0.12876594 0.10241521\n",
      "  0.09757224 0.1102074  0.12442628]]\n"
     ]
    }
   ],
   "source": [
    "data=detect(frame)"
   ]
  },
  {
   "cell_type": "code",
   "execution_count": null,
   "id": "21b39948",
   "metadata": {},
   "outputs": [],
   "source": []
  },
  {
   "cell_type": "code",
   "execution_count": null,
   "id": "1d0a641e",
   "metadata": {},
   "outputs": [],
   "source": [
    "                                        "
   ]
  },
  {
   "cell_type": "code",
   "execution_count": null,
   "id": "68306f49",
   "metadata": {},
   "outputs": [],
   "source": []
  }
 ],
 "metadata": {
  "kernelspec": {
   "display_name": "Python 3 (ipykernel)",
   "language": "python",
   "name": "python3"
  },
  "language_info": {
   "codemirror_mode": {
    "name": "ipython",
    "version": 3
   },
   "file_extension": ".py",
   "mimetype": "text/x-python",
   "name": "python",
   "nbconvert_exporter": "python",
   "pygments_lexer": "ipython3",
   "version": "3.8.13"
  }
 },
 "nbformat": 4,
 "nbformat_minor": 5
}
